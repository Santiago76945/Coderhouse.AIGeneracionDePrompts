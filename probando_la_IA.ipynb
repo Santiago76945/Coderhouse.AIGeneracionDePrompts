{
 "cells": [
  {
   "cell_type": "code",
   "execution_count": 3,
   "id": "c839f5e2-4f0a-4ac1-94ac-58ab955647ce",
   "metadata": {},
   "outputs": [
    {
     "name": "stdout",
     "output_type": "stream",
     "text": [
      "Ejercicio generado:\n",
      "Pregunta: ¿Qué significa \"gracias\" en inglés?\n",
      "Opciones:\n",
      "A) Please\n",
      "B) Hello\n",
      "C) Thank you\n",
      "Respuesta correcta: C) Thank you\n"
     ]
    }
   ],
   "source": [
    "import openai\n",
    "\n",
    "# Configurar tu API key\n",
    "openai.api_key = \"sk-F7a7Fd3lF23GZDJtKlX_u5rK7sXEWMVJRIyS-XO2QAT3BlbkFJwKk43vsSNXcDxbY0osQ0FTkwKDwtPWmyfV0YZm768A\"\n",
    "\n",
    "# Función para generar ejercicios\n",
    "def generar_ejercicio(idioma, nivel):\n",
    "    # Contexto del prompt\n",
    "    contexto = f\"Eres un profesor de {idioma} que crea ejercicios de gramática y vocabulario para estudiantes de nivel {nivel}.\"\n",
    "    \n",
    "    # Prompt para generar el ejercicio\n",
    "    prompt = f\"\"\"\n",
    "    Crea un ejercicio de opción múltiple en {idioma} para estudiantes de nivel {nivel}.\n",
    "    Instrucciones:\n",
    "    - Proporciona una pregunta o una frase incompleta.\n",
    "    - Da tres opciones de respuesta, una de las cuales debe ser correcta.\n",
    "    - Indica cuál es la respuesta correcta.\n",
    "\n",
    "    Ejemplo:\n",
    "    Pregunta: Completa la frase: \"El gato está en _____ casa.\"\n",
    "    Opciones:\n",
    "    A) el\n",
    "    B) la\n",
    "    C) los\n",
    "    Respuesta correcta: B) la\n",
    "    \"\"\"\n",
    "    \n",
    "    # Crear la solicitud a la API\n",
    "    response = openai.ChatCompletion.create(\n",
    "        model='gpt-3.5-turbo',\n",
    "        messages=[\n",
    "            {\"role\": \"system\", \"content\": contexto},\n",
    "            {\"role\": \"user\", \"content\": prompt}\n",
    "        ],\n",
    "        max_tokens=150\n",
    "    )\n",
    "    \n",
    "    # Obtener y mostrar el mensaje de respuesta\n",
    "    mensaje = response['choices'][0]['message']['content']\n",
    "    return mensaje\n",
    "\n",
    "# Ejemplo de uso de la función\n",
    "idioma = \"español\"  # Puede ser alemán, inglés, francés o español\n",
    "nivel = \"A1\"  # Puede ser A1, A2, B1, B2, C1, C2\n",
    "ejercicio = generar_ejercicio(idioma, nivel)\n",
    "print(\"Ejercicio generado:\")\n",
    "print(ejercicio)\n"
   ]
  },
  {
   "cell_type": "code",
   "execution_count": null,
   "id": "6da10202-f926-4a51-bf7e-57ca9e03e351",
   "metadata": {},
   "outputs": [],
   "source": []
  }
 ],
 "metadata": {
  "kernelspec": {
   "display_name": "Python 3 (ipykernel)",
   "language": "python",
   "name": "python3"
  },
  "language_info": {
   "codemirror_mode": {
    "name": "ipython",
    "version": 3
   },
   "file_extension": ".py",
   "mimetype": "text/x-python",
   "name": "python",
   "nbconvert_exporter": "python",
   "pygments_lexer": "ipython3",
   "version": "3.12.4"
  }
 },
 "nbformat": 4,
 "nbformat_minor": 5
}
